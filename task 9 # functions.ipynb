{
 "cells": [
  {
   "cell_type": "markdown",
   "metadata": {},
   "source": [
    "# Task 9"
   ]
  },
  {
   "cell_type": "code",
   "execution_count": 10,
   "metadata": {},
   "outputs": [
    {
     "name": "stdout",
     "output_type": "stream",
     "text": [
      "Enter the First number: 12\n",
      "Enter the Second number: 2\n",
      "Press 1 for Addition\n",
      "Press 2 for Substraction\n",
      "Press 3 for Multiplication\n",
      "Press 4 for Division\n",
      "Press 5 to perform all operation\n",
      "Enter the Option: 5\n",
      "the addition is:  14\n",
      "the Substraction is:  10\n",
      "the Multiplication is:  24\n",
      "the Division is:  6.0\n"
     ]
    }
   ],
   "source": [
    "# Ask for 2 numbers and inputs for operations \n",
    "# based on inputs performs the operations\n",
    "num1=int(input(\"Enter the First number: \"))\n",
    "num2=int(input(\"Enter the Second number: \"))\n",
    "print(\"Press 1 for Addition\\nPress 2 for Substraction\\nPress 3 for Multiplication\\nPress 4 for Division\\nPress 5 to perform all operation\")\n",
    "option=input(\"Enter the Option: \")\n",
    "def add():\n",
    "    print(\"the addition is: \",num1+num2)\n",
    "def subs():\n",
    "    print(\"the Substraction is: \",num1-num2)\n",
    "def mult():\n",
    "    print(\"the Multiplication is: \",num1*num2)\n",
    "def div():\n",
    "    print(\"the Division is: \",num1/num2)\n",
    "def all_operation():\n",
    "    add()\n",
    "    subs()\n",
    "    mult()\n",
    "    div()\n",
    "if(option=='1'):\n",
    "    add()\n",
    "elif(option=='2'):\n",
    "    subs()\n",
    "elif(option=='3'):\n",
    "    mult()\n",
    "elif(option=='4'):\n",
    "    div()\n",
    "elif(option=='5'):\n",
    "    all_operation()\n",
    "else:(\"The Entered option is not correct\")"
   ]
  },
  {
   "cell_type": "markdown",
   "metadata": {},
   "source": []
  },
  {
   "cell_type": "code",
   "execution_count": null,
   "metadata": {},
   "outputs": [],
   "source": []
  },
  {
   "cell_type": "code",
   "execution_count": null,
   "metadata": {},
   "outputs": [],
   "source": []
  }
 ],
 "metadata": {
  "kernelspec": {
   "display_name": "Python 3",
   "language": "python",
   "name": "python3"
  },
  "language_info": {
   "codemirror_mode": {
    "name": "ipython",
    "version": 3
   },
   "file_extension": ".py",
   "mimetype": "text/x-python",
   "name": "python",
   "nbconvert_exporter": "python",
   "pygments_lexer": "ipython3",
   "version": "3.7.6"
  }
 },
 "nbformat": 4,
 "nbformat_minor": 4
}
