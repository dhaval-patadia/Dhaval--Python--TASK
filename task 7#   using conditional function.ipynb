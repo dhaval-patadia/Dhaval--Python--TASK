{
 "cells": [
  {
   "cell_type": "code",
   "execution_count": 6,
   "metadata": {},
   "outputs": [
    {
     "name": "stdout",
     "output_type": "stream",
     "text": [
      "Enter the first number: 22\n",
      "Enter the second number: 20\n",
      "Press 1 for Addition \n",
      "Press 2 for Substraction \n",
      "Press 3 for Multiplication  \n",
      "Press 4 for Division  \n",
      "Press 5 for all opereation above\n",
      "enter the operation to perform: 5\n",
      "Addition is:  42 \n",
      "Substraction is:  2 \n",
      "Multiplication is:  440 \n",
      "Division is:  1.1\n"
     ]
    }
   ],
   "source": [
    "'''    task 7\n",
    "1. ask for 2 numbers\n",
    "2. asK for opereation that we want to perform\n",
    "3. output based on input'''\n",
    "\n",
    "Num1= int(input(\"Enter the first number: \"))\n",
    "Num2= int(input(\"Enter the second number: \"))\n",
    "print(\"Press 1 for Addition \\nPress 2 for Substraction \\nPress 3 for Multiplication  \\nPress 4 for Division  \\nPress 5 for all opereation above\")\n",
    "operation=input('enter the operation to perform: ')\n",
    "if(operation == '1'):\n",
    "        print(\"Addition is \",Num1+Num2)\n",
    "elif(operation== '2'):\n",
    "        print(\" subration is \",Num1-Num2)\n",
    "elif(operation== '3'):\n",
    "        print(\"Multiplication is \",Num1*Num2)\n",
    "elif(operation== '4'):\n",
    "        print(\"dvision is \",Num1/Num2)\n",
    "elif(operation=='5'):\n",
    "        print(\"Addition is: \",Num1+Num2 ,'\\nSubstraction is: ',Num1-Num2 ,\"\\nMultiplication is: \",Num1*Num2,\"\\nDivision is: \",Num1/Num2)\n",
    "else:\n",
    "    print(\"Wrong input\")"
   ]
  },
  {
   "cell_type": "code",
   "execution_count": null,
   "metadata": {},
   "outputs": [],
   "source": []
  },
  {
   "cell_type": "code",
   "execution_count": 4,
   "metadata": {},
   "outputs": [
    {
     "name": "stdout",
     "output_type": "stream",
     "text": [
      "Press 1 to receive students info from python batch\n",
      "Press 2 to receive info of students from Data Science Batch: \n",
      "Output1\n",
      "the Students in the batch are: dhaval, vaibhav and manoj\n",
      "\n",
      "Enter the Name: DhaVAL\n",
      "{'Name': 'Dhaval', 'Class': 'Pyhton', 'Attendence': '95%', 'projects Done': '9 out of 10'}\n"
     ]
    }
   ],
   "source": [
    "#----- To Access the Student Info\n",
    "\n",
    "\n",
    "print('Press 1 to receive students info from python batch\\nPress 2 to receive info of students from Data Science Batch: ')\n",
    "num1=input('Output')\n",
    "if(num1=='1'):\n",
    "    print('the Students in the batch are: dhaval, vaibhav and manoj\\n')\n",
    "    name_python=input('Enter the Name: ')\n",
    "    name_python=name_python.lower()\n",
    "    if(name_python=='dhaval'):\n",
    "        dict1={\n",
    "            'Name':'Dhaval',\n",
    "            'Class':'Pyhton',\n",
    "            'Attendence':\"95%\",\n",
    "            'projects Done': \"9 out of 10\"\n",
    "        }\n",
    "        print(dict1)\n",
    "    elif(name_python=='manoj'):\n",
    "        dict2={\n",
    "            'Name':'Manoj',\n",
    "            'Class':'Pyhton',\n",
    "            'Attendence':\"95%\",\n",
    "            'projects Done': \"10 out of 10\"\n",
    "        }\n",
    "        print(dict2)\n",
    "    elif(name_python=='vaibhav'):\n",
    "        dict3={\n",
    "            'Name':'vaibhav',\n",
    "            'Class':'Pyhton',\n",
    "            'Attendence':\"98%\",\n",
    "            'projects Done': \"9 out of 10\"\n",
    "        }\n",
    "        print(dict3)\n",
    "    else:\n",
    "        print('Wrong Input')\n",
    "elif(num1=='2'):\n",
    "    print('the Students in the batch are: satish, ramesh and abhishek\\n')\n",
    "    name_ds=input(print('Enter the name of student:'))\n",
    "    name_ds=name_ds.lower()\n",
    "    if(name_ds=='satish'):\n",
    "        dict4={\n",
    "            'Name':'satish',\n",
    "            'Class':'DS',\n",
    "            'Attendence':\"95%\",\n",
    "            'projects Done': \"7 out of 10\"\n",
    "        }\n",
    "        print(dict4)\n",
    "    elif(name_ds=='ramesh'):\n",
    "        dict5={\n",
    "            'Name':'ramesh',\n",
    "            'Class':'DS',\n",
    "            'Attendence':\"80%\",\n",
    "            'projects Done': \"10 out of 10\"\n",
    "        }\n",
    "        print(dict5)\n",
    "    elif(name_ds=='abhishek'):\n",
    "        dict6={\n",
    "            'Name':'abhishek',\n",
    "            'Class':'DS',\n",
    "            'Attendence':\"98%\",\n",
    "            'projects Done': \"9 out of 10\"\n",
    "        }\n",
    "        print(dict6)\n",
    "    else:\n",
    "        print('Wrong Input')\n",
    "else:\n",
    "    print(\"wrong input\")\n",
    "\n"
   ]
  },
  {
   "cell_type": "code",
   "execution_count": null,
   "metadata": {},
   "outputs": [],
   "source": []
  },
  {
   "cell_type": "code",
   "execution_count": null,
   "metadata": {},
   "outputs": [],
   "source": []
  },
  {
   "cell_type": "code",
   "execution_count": null,
   "metadata": {},
   "outputs": [],
   "source": []
  }
 ],
 "metadata": {
  "kernelspec": {
   "display_name": "Python 3",
   "language": "python",
   "name": "python3"
  },
  "language_info": {
   "codemirror_mode": {
    "name": "ipython",
    "version": 3
   },
   "file_extension": ".py",
   "mimetype": "text/x-python",
   "name": "python",
   "nbconvert_exporter": "python",
   "pygments_lexer": "ipython3",
   "version": "3.7.6"
  }
 },
 "nbformat": 4,
 "nbformat_minor": 4
}
