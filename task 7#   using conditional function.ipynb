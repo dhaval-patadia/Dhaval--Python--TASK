{
 "cells": [
  {
   "cell_type": "code",
   "execution_count": null,
   "metadata": {},
   "outputs": [],
   "source": [
    "'''    task 7\n",
    "1. ask for 2 numbers\n",
    "2. as for opereation that we want to perform\n",
    "3. output based on input'''\n",
    "\n",
    "Num1= int(input(\"Enter the first number: \"))\n",
    "Num2= int(input(\"Enter the second number: \"))\n",
    "print(\"Press 1 for Addition \\nPress 2 for Substraction \\nPress 3 for Multiplication  \\nPress 4 for Division  \\nPress 5 for all opereation above\")\n",
    "operation=input('enter the operation to perform: ')\n",
    "num3=Num1+Num2\n",
    "num4=Num1-Num2\n",
    "num5=Num1*Num2\n",
    "num6=Num1/Num2\n",
    "if(operation == '1'):\n",
    "        print(\"Addition is \",num3)\n",
    "elif(operation== '2'):\n",
    "        print(\" subration is \",num4)\n",
    "elif(operation== '3'):\n",
    "        print(\"Multiplication is \",num5)\n",
    "elif(operation== '4'):\n",
    "        print(\"dvision is \",num6)\n",
    "elif(operation=='5'):\n",
    "        print(\"Addition is: \",num3 ,'\\nSubstraction is: ',num4 ,\"\\nMultiplication is: \",num5,\"\\nDivision is: \",num6)\n",
    "else:\n",
    "    print(\"Wrong input\")\n"
   ]
  },
  {
   "cell_type": "code",
   "execution_count": null,
   "metadata": {},
   "outputs": [],
   "source": []
  },
  {
   "cell_type": "code",
   "execution_count": null,
   "metadata": {},
   "outputs": [],
   "source": []
  }
 ],
 "metadata": {
  "kernelspec": {
   "display_name": "Python 3",
   "language": "python",
   "name": "python3"
  },
  "language_info": {
   "codemirror_mode": {
    "name": "ipython",
    "version": 3
   },
   "file_extension": ".py",
   "mimetype": "text/x-python",
   "name": "python",
   "nbconvert_exporter": "python",
   "pygments_lexer": "ipython3",
   "version": "3.7.6"
  }
 },
 "nbformat": 4,
 "nbformat_minor": 4
}
