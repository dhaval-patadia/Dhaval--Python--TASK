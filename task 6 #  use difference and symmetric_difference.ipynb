{
 "cells": [
  {
   "cell_type": "code",
   "execution_count": 14,
   "metadata": {},
   "outputs": [
    {
     "name": "stdout",
     "output_type": "stream",
     "text": [
      "{4, 5}\n",
      "{'b', 3, 2, 'c', 'a'}\n"
     ]
    }
   ],
   "source": [
    "#------use difference function-----\n",
    "\n",
    "\n",
    "l1={'a',1,2,3,1,'b','c'}\n",
    "l2={1,4,5}\n",
    "print(l2.difference(l1)) #   set l2 elements not present in set l1 is displayed\n",
    "print(l1.difference(l2)) #   set l1 elements not present in set l2 is displayed"
   ]
  },
  {
   "cell_type": "code",
   "execution_count": null,
   "metadata": {},
   "outputs": [],
   "source": []
  },
  {
   "cell_type": "code",
   "execution_count": null,
   "metadata": {},
   "outputs": [],
   "source": []
  },
  {
   "cell_type": "code",
   "execution_count": 18,
   "metadata": {},
   "outputs": [
    {
     "name": "stdout",
     "output_type": "stream",
     "text": [
      "{'b', 2, 4, 5, 3, 'c', 'a'}\n",
      "{'b', 2, 3, 4, 5, 'c', 'a'}\n"
     ]
    }
   ],
   "source": [
    "#-----use symmeteric difference-----\n",
    "\n",
    "\n",
    "l3={'a',1,2,3,1,'b','c'}\n",
    "l4={1,4,5}\n",
    "print(l3.symmetric_difference(l4))\n",
    "print(l4.symmetric_difference(l3))     # uncommon element from both sets together is displayed"
   ]
  },
  {
   "cell_type": "code",
   "execution_count": null,
   "metadata": {},
   "outputs": [],
   "source": []
  }
 ],
 "metadata": {
  "kernelspec": {
   "display_name": "Python 3",
   "language": "python",
   "name": "python3"
  },
  "language_info": {
   "codemirror_mode": {
    "name": "ipython",
    "version": 3
   },
   "file_extension": ".py",
   "mimetype": "text/x-python",
   "name": "python",
   "nbconvert_exporter": "python",
   "pygments_lexer": "ipython3",
   "version": "3.7.6"
  }
 },
 "nbformat": 4,
 "nbformat_minor": 4
}
